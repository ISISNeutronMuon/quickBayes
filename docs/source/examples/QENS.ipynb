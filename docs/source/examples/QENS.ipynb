{
 "cells": [
  {
   "cell_type": "markdown",
   "id": "f6813295-8a74-4429-9102-777f4d7b2fe1",
   "metadata": {},
   "source": [
    "Title\n",
    "-----\n",
    "\n",
    "This is a test"
   ]
  },
  {
   "cell_type": "code",
   "execution_count": null,
   "id": "78f81a55-ff50-4afc-b12b-b35ac6b0b665",
   "metadata": {},
   "outputs": [],
   "source": [
    "import os\n",
    "import numpy as np\n",
    "from quickBayes.workflow.model_selection.QlData import QLData\n",
    "from quickBayes.functions.qldata_function import QlDataFunction\n",
    "from quickBayes.utils.spline import spline\n",
    "from quickBayes.utils.general import get_background_function\n",
    "from quickBayes.workflow.model_selection.template import ModelSelectionWorkflow\n",
    "from quickBayes.functions.base import BaseFitFunction\n",
    "from quickBayes.utils.crop_data import crop\n"
   ]
  },
  {
   "cell_type": "code",
   "execution_count": null,
   "id": "1474d49d-98f6-45d3-a4bb-4f0abca135cf",
   "metadata": {},
   "outputs": [],
   "source": [
    "DATA_DIR = os.path.join('..', '..', '..', 'test', 'data')\n",
    "\n",
    "sample_file = os.path.join(DATA_DIR, 'sample_data_red.npy')\n",
    "resolution_file = os.path.join(DATA_DIR, 'resolution_data_red.npy')\n",
    "\n",
    "sx, sy, se = np.load(sample_file)\n",
    "rx, ry, re = np.load(resolution_file)\n",
    "\n",
    "resolution = {'x': rx, 'y': ry}"
   ]
  },
  {
   "cell_type": "code",
   "execution_count": null,
   "id": "c19ce688-3e03-4ef8-bbde-53cabbe334c0",
   "metadata": {},
   "outputs": [],
   "source": [
    "results = {}\n",
    "results_errors = {}\n",
    "start_x = -0.4\n",
    "end_x = 0.4\n",
    "max_peaks = 3"
   ]
  },
  {
   "cell_type": "code",
   "execution_count": null,
   "id": "b2496f64-b450-49a2-997c-89f40c93ecca",
   "metadata": {},
   "outputs": [],
   "source": [
    "workflow = QLData(results, results_errors)\n",
    "new_x, ry = workflow.preprocess_data(sx, sy, se, start_x, end_x, resolution)"
   ]
  },
  {
   "cell_type": "code",
   "execution_count": null,
   "id": "d0cfc5b3-1b69-4769-8c3d-0a15e91e211e",
   "metadata": {},
   "outputs": [],
   "source": [
    "elastic = True"
   ]
  },
  {
   "cell_type": "code",
   "execution_count": null,
   "id": "90c96e2e-66fd-4edd-ad99-3cc69e0b8f60",
   "metadata": {},
   "outputs": [],
   "source": [
    "BG = get_background_function('linear')\n",
    "function = QlDataFunction(BG, elastic, new_x, ry, start_x, end_x)"
   ]
  },
  {
   "cell_type": "code",
   "execution_count": null,
   "id": "8f2bbcd1-c1cf-4ff7-bffd-b2955f0930d9",
   "metadata": {},
   "outputs": [],
   "source": [
    "lower, upper = function.get_bounds()\n",
    "guess = function.get_guess()\n",
    "lower, upper = function.get_bounds()\n",
    "workflow.set_scipy_engine(guess, lower, upper)"
   ]
  },
  {
   "cell_type": "code",
   "execution_count": null,
   "id": "a056909f-02ad-46ff-ac00-f7b0c567da6f",
   "metadata": {},
   "outputs": [],
   "source": [
    "function_out = workflow.execute(max_peaks, function, guess)"
   ]
  },
  {
   "cell_type": "code",
   "execution_count": null,
   "id": "fa14c886-ddb8-4f57-b6d3-e003d023f565",
   "metadata": {},
   "outputs": [],
   "source": [
    "results, results_errors = workflow.get_parameters_and_errors\n",
    "for key in results.keys():\n",
    "    if 'log' in key:\n",
    "        print(key, results[key])"
   ]
  },
  {
   "cell_type": "code",
   "execution_count": null,
   "id": "4ae8ba33-c946-4971-aa86-4cefb3bab16d",
   "metadata": {},
   "outputs": [],
   "source": [
    "fit_engine = workflow.fit_engine\n",
    "x_data, y_data, e_data, df, de = fit_engine.get_fit_values(1)"
   ]
  },
  {
   "cell_type": "code",
   "execution_count": null,
   "id": "70a6c7c1-4b6c-4706-8126-13e6aa4ae50d",
   "metadata": {},
   "outputs": [],
   "source": [
    "import matplotlib.pyplot as plt\n",
    "\n",
    "plt.plot(sx, sy, label='data')\n",
    "plt.plot(x_data, y_data, label='fit', linestyle='--')\n",
    "plt.plot(x_data, df, label='difference')\n",
    "plt.legend()\n",
    "plt.show()"
   ]
  },
  {
   "cell_type": "code",
   "execution_count": null,
   "id": "3ed8662c-2ae6-4650-9875-e1e6667adb63",
   "metadata": {},
   "outputs": [],
   "source": [
    "for key in results.keys():\n",
    "    if 'N2' in key and 'log' not in key:\n",
    "        print(key, results[key], results_errors[key])"
   ]
  }
 ],
 "metadata": {
   "kernelspec": {
   "display_name": "Python 3 (ipykernel)",
   "language": "python",
   "name": "python3"
  },
  "language_info": {
   "codemirror_mode": {
    "name": "ipython",
    "version": 3
   },
   "file_extension": ".py",
   "mimetype": "text/x-python",
   "name": "python",
   "nbconvert_exporter": "python",
   "pygments_lexer": "ipython3",
   "version": "3.11.10"
  }
 },
 "nbformat": 4,
 "nbformat_minor": 5
}
