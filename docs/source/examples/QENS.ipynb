{
 "cells": [
  {
   "cell_type": "markdown",
   "id": "f6813295-8a74-4429-9102-777f4d7b2fe1",
   "metadata": {},
   "source": [
    "Title\n",
    "-----\n",
    "\n",
    "This is a test"
   ]
  },
  {
   "cell_type": "code",
   "execution_count": null,
   "id": "78f81a55-ff50-4afc-b12b-b35ac6b0b665",
   "metadata": {},
   "outputs": [],
   "source": [
    "print(\"hiiiii\")"
   ]
  }

 ],
 "metadata": {
  "kernelspec": {
   "display_name": "Python 3 (ipykernel)",
   "language": "python",
   "name": "python3"
  },
  "language_info": {
   "codemirror_mode": {
    "name": "ipython",
    "version": 3
   },
   "file_extension": ".py",
   "mimetype": "text/x-python",
   "name": "python",
   "nbconvert_exporter": "python",
   "pygments_lexer": "ipython3",
   "version": "3.11.7"
  }
 },
 "nbformat": 4,
 "nbformat_minor": 5
}
